{
 "cells": [
  {
   "cell_type": "code",
   "execution_count": 17,
   "metadata": {},
   "outputs": [
    {
     "data": {
      "text/plain": [
       "' Print stuff from the apply helmholtz operator and pump into this as way of testing '"
      ]
     },
     "execution_count": 17,
     "metadata": {},
     "output_type": "execute_result"
    }
   ],
   "source": [
    "''' Print stuff from the apply helmholtz operator and pump into this as way of testing '''"
   ]
  },
  {
   "cell_type": "code",
   "execution_count": 1,
   "metadata": {},
   "outputs": [],
   "source": [
    "tol = 0.0001"
   ]
  },
  {
   "cell_type": "code",
   "execution_count": 2,
   "metadata": {},
   "outputs": [],
   "source": [
    "def different_lines(list1, list2):\n",
    "    return any([abs(float(list1[0]) - float(list2[0])) > tol,\n",
    "                abs(float(list1[1]) - float(list2[1])) > tol,\n",
    "                abs(float(list1[2]) - float(list2[2])) > tol,\n",
    "                int(list1[3]) != int(list2[3])-1,\n",
    "                int(list1[4]) != int(list2[4])-1,\n",
    "                int(list1[5]) != int(list2[5])-1,\n",
    "                int(list1[6]) != int(list2[6])-1,\n",
    "                int(list1[7]) != int(list2[7])-1,\n",
    "                int(list1[8]) != int(list2[8])-1])"
   ]
  },
  {
   "cell_type": "code",
   "execution_count": null,
   "metadata": {},
   "outputs": [],
   "source": [
    "#      std::cout << (*yvec)[(*map_w3)[cell] + k] << \" \" << (*op1)[(*map_w3)[cell] + k] << \" \" << (*xvec)[(*dofmap)[cell][0][0] + k]\n",
    "#                    << \" \" <<(*map_w3)[cell]<< \" \" << (*dofmap)[cell][0][0]<< \" \" <<\n",
    "#                     (*dofmap)[cell][0][1]<< \" \" << (*dofmap)[cell][1][1]<< \" \" << (*dofmap)[cell][2][1]<<\n",
    "#                     \" \" << (*dofmap)[cell][3][1]<< std::endl;"
   ]
  },
  {
   "cell_type": "code",
   "execution_count": 3,
   "metadata": {},
   "outputs": [
    {
     "name": "stdout",
     "output_type": "stream",
     "text": [
      "Checked  103680  lines\n"
     ]
    }
   ],
   "source": [
    "lines_checked = 0\n",
    "with open('useful_temp.output', 'r') as f1:\n",
    "    with open('temp_a2.output', 'r') as f2:\n",
    "        while True:\n",
    "            d1 = f1.readline().split()\n",
    "            d2 = f2.readline().split()\n",
    "            if 'Number' in d1[0]: break\n",
    "            if different_lines(d1, d2):\n",
    "                print(d1, d2)\n",
    "                break\n",
    "            else:\n",
    "                lines_checked+=1\n",
    "print('Checked ', lines_checked, ' lines')"
   ]
  },
  {
   "cell_type": "code",
   "execution_count": null,
   "metadata": {},
   "outputs": [],
   "source": []
  }
 ],
 "metadata": {
  "kernelspec": {
   "display_name": "Python 3",
   "language": "python",
   "name": "python3"
  },
  "language_info": {
   "codemirror_mode": {
    "name": "ipython",
    "version": 3
   },
   "file_extension": ".py",
   "mimetype": "text/x-python",
   "name": "python",
   "nbconvert_exporter": "python",
   "pygments_lexer": "ipython3",
   "version": "3.7.4"
  }
 },
 "nbformat": 4,
 "nbformat_minor": 2
}
